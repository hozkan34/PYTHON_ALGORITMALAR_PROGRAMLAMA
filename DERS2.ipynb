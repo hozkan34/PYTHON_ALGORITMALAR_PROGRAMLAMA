{
  "nbformat": 4,
  "nbformat_minor": 0,
  "metadata": {
    "colab": {
      "provenance": []
    },
    "kernelspec": {
      "name": "python3",
      "display_name": "Python 3"
    },
    "language_info": {
      "name": "python"
    }
  },
  "cells": [
    {
      "cell_type": "code",
      "execution_count": null,
      "metadata": {
        "colab": {
          "base_uri": "https://localhost:8080/"
        },
        "id": "vhEKbQfUIQFq",
        "outputId": "f9102adf-31d2-442f-9641-75e6eb43da2a"
      },
      "outputs": [
        {
          "output_type": "stream",
          "name": "stdout",
          "text": [
            "merhaba python algoritma sınıfı\n"
          ]
        }
      ],
      "source": [
        "print(\"merhaba python algoritma sınıfı\")\n"
      ]
    },
    {
      "cell_type": "code",
      "source": [
        "from google.colab import drive\n",
        "drive.mount('/content/drive')"
      ],
      "metadata": {
        "colab": {
          "base_uri": "https://localhost:8080/"
        },
        "id": "R-ncAB1MNKbr",
        "outputId": "e2add88b-9321-491c-9d43-c4e868f70b62"
      },
      "execution_count": null,
      "outputs": [
        {
          "output_type": "stream",
          "name": "stdout",
          "text": [
            "Mounted at /content/drive\n"
          ]
        }
      ]
    },
    {
      "cell_type": "code",
      "source": [
        "import os\n",
        "os.chdir('/content/drive/My Drive/ALGORITMALAR_MYO')"
      ],
      "metadata": {
        "id": "HokXmqlbPf_F"
      },
      "execution_count": null,
      "outputs": []
    },
    {
      "cell_type": "markdown",
      "source": [
        "string bilgi türü  metinsel ifadedir\n",
        "integer bilgi türü sayısal ifadedir"
      ],
      "metadata": {
        "id": "SRMZdTE1LCok"
      }
    },
    {
      "cell_type": "code",
      "source": [
        "import sys #import python programlama dilinde kütüphane eklemeye yarayan bir kod blogudur.\n",
        "print(sys.version)"
      ],
      "metadata": {
        "colab": {
          "base_uri": "https://localhost:8080/"
        },
        "id": "QYT1imLcMrgT",
        "outputId": "5f503754-6a59-44c0-f6cf-f59f49c4f8e1"
      },
      "execution_count": null,
      "outputs": [
        {
          "output_type": "stream",
          "name": "stdout",
          "text": [
            "3.11.11 (main, Dec  4 2024, 08:55:07) [GCC 11.4.0]\n"
          ]
        }
      ]
    }
  ]
}