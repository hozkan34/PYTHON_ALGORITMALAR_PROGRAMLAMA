{
  "nbformat": 4,
  "nbformat_minor": 0,
  "metadata": {
    "colab": {
      "provenance": []
    },
    "kernelspec": {
      "name": "python3",
      "display_name": "Python 3"
    },
    "language_info": {
      "name": "python"
    }
  },
  "cells": [
    {
      "cell_type": "code",
      "execution_count": null,
      "metadata": {
        "colab": {
          "base_uri": "https://localhost:8080/"
        },
        "id": "8A99_biyaHiA",
        "outputId": "349d86d6-7132-4617-f6a9-b47471f95f4f"
      },
      "outputs": [
        {
          "output_type": "stream",
          "name": "stdout",
          "text": [
            "Merhaba - algoritmalar dersi\n"
          ]
        }
      ],
      "source": [
        "print(\"Merhaba - algoritmalar dersi\")"
      ]
    }
  ]
}